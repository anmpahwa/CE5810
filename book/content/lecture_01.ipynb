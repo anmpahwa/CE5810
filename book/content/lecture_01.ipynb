{
 "cells": [
  {
   "cell_type": "markdown",
   "id": "07f21966",
   "metadata": {},
   "source": [
    "# Lecture 01: ..."
   ]
  }
 ],
 "metadata": {
  "language_info": {
   "name": "python"
  }
 },
 "nbformat": 4,
 "nbformat_minor": 5
}
